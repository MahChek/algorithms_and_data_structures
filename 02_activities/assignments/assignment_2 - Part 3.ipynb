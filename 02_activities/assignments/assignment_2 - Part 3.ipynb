{
 "cells": [
  {
   "cell_type": "markdown",
   "id": "b29a5c7d",
   "metadata": {},
   "source": [
    "## Paraphrase the problem in your own words.\n",
    "\n",
    "the questions asks for checking how the brakets are closed, if they are the same type, opened and closed, it returns True and if they are not closed or the open and closed are not matched, it returns false"
   ]
  },
  {
   "cell_type": "markdown",
   "id": "2f79a164",
   "metadata": {},
   "source": [
    "## Create 1 new example that demonstrates you understand the problem. Trace/walkthrough 1 example that your partner made and explain it.\n",
    "\n",
    "one example would be wrong order of opening and closing; \"({)}\"\" --> False\n",
    "### Partener's example: \n",
    "    - assert not is_valid_brackets('({[') #False: this example has three open brakets: (, {, and [ that are not closed, expected to be Flase as the partner showed in the assignment.\n"
   ]
  },
  {
   "cell_type": "markdown",
   "id": "b54ca417",
   "metadata": {},
   "source": [
    "## Copy the solution your partner wrote\n",
    "ef is_valid_brackets(s: str) -> bool:\n",
    "    q = []\n",
    "    close = {'(':')', '[':']', '{':'}'}\n",
    "\n",
    "    for c in s:\n",
    "        if c == '(' or c == '[' or c == '{':\n",
    "            q.append(close[c])\n",
    "        else:\n",
    "            n = len(q) -1\n",
    "\n",
    "            if n >= 0 and c == q[n]:\n",
    "                q.pop()\n",
    "            else:\n",
    "                return False\n",
    "            \n",
    "    if len(q) > 0:\n",
    "        return False\n",
    "                \n",
    "    return True"
   ]
  },
  {
   "cell_type": "markdown",
   "id": "e79596d7",
   "metadata": {},
   "source": [
    "## Explain why their solution works in your own words.\n",
    "In this code, the partner defined a function called is_valid_brakets, this function takes a string s and return boolian (True or False).\n",
    "Using a dictionary, it defines all the possible closed bracket types or It uses a dictionary map each opening bracket to its corresponding closing bracket\n",
    "Then with a loop it goes through the string, one charcter by character and when it find a opening braket, it stakes their corresponding closing brakets in a new list\n",
    "Later, when it encounters a closing bracket, it checks if that bracket matches the top item of the stack,\n",
    "If it matches, it removes, if not it returns False\n",
    "At the end it checks the length and if the stack is empty\n"
   ]
  },
  {
   "cell_type": "markdown",
   "id": "f0872f1f",
   "metadata": {},
   "source": [
    "## Explain the problem’s time and space complexity in your own words.\n",
    "In worse case senario, the code needs to go over all the input data so it is O(n), but it can shortly gives False asnwer in shorter time as well.\n",
    "The same for the space complexity, in worse case it is O(n) since it should save a list of n inputs."
   ]
  },
  {
   "cell_type": "markdown",
   "id": "14be11ed",
   "metadata": {},
   "source": [
    "## Critique your partner's solution, including explanation, and if there is anything that should be adjusted.\n",
    "The solution and explanations were correct and well explained.\n",
    "If I want to suggest some improvement they are replacing \"if c == '(' or c == '[' or c == '{':\" with if c in '([{'.\n",
    "Another improvement would be instead of introducing n, to directing the last element of q, just say q[-1]\n",
    "Last, as mentioed by the partner in the solution, the loop in the fucntion can be replaced by a recursive funcrion, to shorten the code."
   ]
  },
  {
   "cell_type": "markdown",
   "id": "07fdf58a",
   "metadata": {},
   "source": [
    "## Reflection\n",
    "\n",
    "What I learned from Assignment 1 is that thinking step by step. \n",
    "The most important part is planning the algorithm and try to improve it step by step.\n",
    "At first, I was confused and made a lot of mistakes, but by going back and checking each line carefully, I started to see where my logic was wrong and how to fix it.\n",
    "Correcting my algorithm and improving it by trying to improve and shorten the code, helped to learn new syntax, and ways to make it work the way I want.\n",
    "\n",
    "From my partner’s solution, I learned that there are many different ways to solve the same problem. \n",
    "The way they solved it looked very unique to me. I wouldn't thought about using dictionaries for this question, and since I am very new to coding, it was really interesting to see that approach. \n",
    "It showed me that programming can be creative, not just technical.\n",
    "At first, critiquing my partner’s code felt intimidating because I dont feel confident in python. But after spending more time looking at their code, trying to make sense of it line by line, I started to notice small things that could be improved and it gave a bit moore confidence."
   ]
  }
 ],
 "metadata": {
  "kernelspec": {
   "display_name": "dsi_participant",
   "language": "python",
   "name": "python3"
  },
  "language_info": {
   "name": "python",
   "version": "3.9.23"
  }
 },
 "nbformat": 4,
 "nbformat_minor": 5
}
